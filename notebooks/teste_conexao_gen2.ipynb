{
 "cells": [
  {
   "cell_type": "code",
   "execution_count": 0,
   "metadata": {
    "application/vnd.databricks.v1+cell": {
     "cellMetadata": {
      "byteLimit": 2048000,
      "rowLimit": 10000
     },
     "inputWidgets": {},
     "nuid": "73680b3e-9bc0-48d3-8cbd-2c5326770f46",
     "showTitle": false,
     "tableResultSettingsMap": {},
     "title": ""
    }
   },
   "outputs": [],
   "source": [
    "# 1) (Opcional) Verificar se o cluster está ativo: apenas rode uma célula simples\n",
    "#spark.range(1).count()\n",
    "\n",
    "# 2) Criar (ou garantir) uma pasta de trabalho em DBFS (se quiser listar algo local)\n",
    "dbutils.fs.mkdirs(\"dbfs:/tmp/dados\")  # não é um mount, só diretório no DBFS do workspace\n",
    "\n",
    "tenant_id     = \"dc61d494-96b7-497b-938a-24df549598e0\"   # Directory (tenant) ID\n",
    "client_id     = \"90966096-825b-453e-b8ef-4649b55118e5\"   # Application (client) ID\n",
    "client_secret = dbutils.secrets.get(scope=\"pri-scope\", key=\"service-credential-key-name\")\n",
    "\n",
    "account  = \"datalakepriscylla\"   # sua storage account\n",
    "container = \"imoveis\"            # CONFIRA se esse container existe no seu account!\n",
    "root = f\"abfss://{container}@{account}.dfs.core.windows.net\"\n",
    "\n",
    "endpoint = f\"https://login.microsoftonline.com/{tenant_id}/oauth2/token\"\n",
    "\n",
    "spark.conf.set(f\"fs.azure.account.auth.type.{account}.dfs.core.windows.net\", \"OAuth\")\n",
    "spark.conf.set(f\"fs.azure.account.oauth.provider.type.{account}.dfs.core.windows.net\",\n",
    "               \"org.apache.hadoop.fs.azurebfs.oauth2.ClientCredsTokenProvider\")\n",
    "spark.conf.set(f\"fs.azure.account.oauth2.client.id.{account}.dfs.core.windows.net\", client_id)\n",
    "spark.conf.set(f\"fs.azure.account.oauth2.client.secret.{account}.dfs.core.windows.net\", client_secret)\n",
    "spark.conf.set(f\"fs.azure.account.oauth2.client.endpoint.{account}.dfs.core.windows.net\", endpoint)\n"
   ]
  },
  {
   "cell_type": "code",
   "execution_count": 0,
   "metadata": {
    "application/vnd.databricks.v1+cell": {
     "cellMetadata": {
      "byteLimit": 2048000,
      "rowLimit": 10000
     },
     "inputWidgets": {},
     "nuid": "2d6ac6c2-bf09-47c6-96d8-30ce162794e4",
     "showTitle": false,
     "tableResultSettingsMap": {},
     "title": ""
    }
   },
   "outputs": [],
   "source": [
    "display(dbutils.fs.ls(f\"{root}/\"))   # lista o topo do container\n"
   ]
  },
  {
   "cell_type": "code",
   "execution_count": 0,
   "metadata": {
    "application/vnd.databricks.v1+cell": {
     "cellMetadata": {
      "byteLimit": 2048000,
      "rowLimit": 10000
     },
     "inputWidgets": {},
     "nuid": "7289ddec-8753-4e57-b44f-bd8c66f715bd",
     "showTitle": false,
     "tableResultSettingsMap": {},
     "title": ""
    }
   },
   "outputs": [],
   "source": [
    "# escrever um dataset de teste\n",
    "test_write = f\"{root}/bronze/_smoke_test/\"\n",
    "spark.range(1, 6).write.mode(\"overwrite\").parquet(test_write)"
   ]
  },
  {
   "cell_type": "code",
   "execution_count": 0,
   "metadata": {
    "application/vnd.databricks.v1+cell": {
     "cellMetadata": {
      "byteLimit": 2048000,
      "rowLimit": 10000
     },
     "inputWidgets": {},
     "nuid": "dc03c043-6fbb-4089-9a76-eb88d1eba783",
     "showTitle": false,
     "tableResultSettingsMap": {},
     "title": ""
    }
   },
   "outputs": [],
   "source": [
    "# conferir que escreveu\n",
    "display(dbutils.fs.ls(test_write))\n",
    "\n",
    "# ler de volta\n",
    "df = spark.read.parquet(test_write)\n",
    "df.show()"
   ]
  }
 ],
 "metadata": {
  "application/vnd.databricks.v1+notebook": {
   "computePreferences": {
    "hardware": {
     "accelerator": null,
     "gpuPoolId": null,
     "memory": null
    }
   },
   "dashboards": [],
   "environmentMetadata": {
    "base_environment": "",
    "environment_version": "3"
   },
   "inputWidgetPreferences": null,
   "language": "python",
   "notebookMetadata": {
    "pythonIndentUnit": 4
   },
   "notebookName": "teste_conexao_gen2",
   "widgets": {}
  },
  "language_info": {
   "name": "python"
  }
 },
 "nbformat": 4,
 "nbformat_minor": 0
}
