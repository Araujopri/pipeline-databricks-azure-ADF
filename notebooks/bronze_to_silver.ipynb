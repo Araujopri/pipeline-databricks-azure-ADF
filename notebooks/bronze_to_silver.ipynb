{
 "cells": [
  {
   "cell_type": "markdown",
   "metadata": {
    "application/vnd.databricks.v1+cell": {
     "cellMetadata": {},
     "inputWidgets": {},
     "nuid": "8d4a35b3-9489-4722-bae5-a33081703863",
     "showTitle": false,
     "tableResultSettingsMap": {},
     "title": ""
    }
   },
   "source": [
    "Lista o que tem no container"
   ]
  },
  {
   "cell_type": "code",
   "execution_count": 0,
   "metadata": {
    "application/vnd.databricks.v1+cell": {
     "cellMetadata": {
      "byteLimit": 2048000,
      "rowLimit": 10000
     },
     "inputWidgets": {},
     "nuid": "f59663ee-e43a-40d0-9a79-242db85816c7",
     "showTitle": false,
     "tableResultSettingsMap": {},
     "title": ""
    }
   },
   "outputs": [],
   "source": [
    "%python\n",
    "dbutils.fs.ls(\"abfss://imoveis@datalakepriscylla.dfs.core.windows.net/bronze\")"
   ]
  },
  {
   "cell_type": "markdown",
   "metadata": {
    "application/vnd.databricks.v1+cell": {
     "cellMetadata": {},
     "inputWidgets": {},
     "nuid": "d0d46c37-2e66-43f3-a83c-3f779892e0cd",
     "showTitle": false,
     "tableResultSettingsMap": {},
     "title": ""
    }
   },
   "source": [
    "Lê a estrutura do arquivo"
   ]
  },
  {
   "cell_type": "code",
   "execution_count": 0,
   "metadata": {
    "application/vnd.databricks.v1+cell": {
     "cellMetadata": {
      "byteLimit": 2048000,
      "rowLimit": 10000
     },
     "inputWidgets": {},
     "nuid": "537fbc8a-06d7-44bc-a9df-9554e636a282",
     "showTitle": false,
     "tableResultSettingsMap": {},
     "title": ""
    }
   },
   "outputs": [],
   "source": [
    "path = \"abfss://imoveis@datalakepriscylla.dfs.core.windows.net/bronze/dados_brutos_imoveis\"\n",
    "df = spark.read.format(\"delta\").load(path)"
   ]
  },
  {
   "cell_type": "code",
   "execution_count": 0,
   "metadata": {
    "application/vnd.databricks.v1+cell": {
     "cellMetadata": {
      "byteLimit": 2048000,
      "rowLimit": 10000
     },
     "inputWidgets": {},
     "nuid": "01cfe736-02fe-4d20-8f89-a74dccee9a7e",
     "showTitle": false,
     "tableResultSettingsMap": {
      "0": {
       "dataGridStateBlob": "{\"version\":1,\"tableState\":{\"columnPinning\":{\"left\":[\"#row_number#\"],\"right\":[]},\"columnSizing\":{\"anuncio\":1241},\"columnVisibility\":{}},\"settings\":{\"columns\":{}},\"syncTimestamp\":1757598017314}",
       "filterBlob": null,
       "queryPlanFiltersBlob": null,
       "tableResultIndex": 0
      }
     },
     "title": ""
    }
   },
   "outputs": [],
   "source": [
    "display(df)"
   ]
  },
  {
   "cell_type": "markdown",
   "metadata": {
    "application/vnd.databricks.v1+cell": {
     "cellMetadata": {},
     "inputWidgets": {},
     "nuid": "81aeb7cc-4154-45de-bc2e-84a106abfa0a",
     "showTitle": false,
     "tableResultSettingsMap": {},
     "title": ""
    }
   },
   "source": [
    "Parsear JSON (a coluna anuncio veio como um json inteiro em formato string)"
   ]
  },
  {
   "cell_type": "code",
   "execution_count": 0,
   "metadata": {
    "application/vnd.databricks.v1+cell": {
     "cellMetadata": {
      "byteLimit": 2048000,
      "rowLimit": 10000
     },
     "inputWidgets": {},
     "nuid": "b18fab7b-7a8e-4df8-a720-126ac025b0d0",
     "showTitle": false,
     "tableResultSettingsMap": {},
     "title": ""
    }
   },
   "outputs": [],
   "source": [
    "from pyspark.sql.functions import col, from_json, expr, regexp_replace\n",
    "from pyspark.sql.types import (\n",
    "    StructType, StructField, StringType, IntegerType, DoubleType,\n",
    "    ArrayType\n",
    ")\n",
    "\n",
    "# 1) Schema do JSON em `anuncio` (string -> struct)\n",
    "schema = StructType([\n",
    "    StructField(\"andar\", IntegerType(), True),\n",
    "    StructField(\"area_total\", ArrayType(StringType()), True),\n",
    "    StructField(\"area_util\",  ArrayType(StringType()), True),\n",
    "    StructField(\"banheiros\",  ArrayType(IntegerType()), True),\n",
    "    StructField(\"caracteristicas\", ArrayType(StringType()), True),\n",
    "    StructField(\"endereco\", StructType([\n",
    "        StructField(\"bairro\",    StringType(), True),\n",
    "        StructField(\"cep\",       StringType(), True),\n",
    "        StructField(\"cidade\",    StringType(), True),\n",
    "        StructField(\"estado\",    StringType(), True),\n",
    "        StructField(\"latitude\",  DoubleType(), True),\n",
    "        StructField(\"longitude\", DoubleType(), True),\n",
    "        StructField(\"pais\",      StringType(), True),\n",
    "        StructField(\"rua\",       StringType(), True),\n",
    "        StructField(\"zona\",      StringType(), True),\n",
    "    ]), True),\n",
    "    StructField(\"id\", StringType(), True),  # id do anúncio (pode duplicar com a coluna df.id)\n",
    "    StructField(\"quartos\", ArrayType(IntegerType()), True),\n",
    "    StructField(\"suites\",  ArrayType(IntegerType()), True),\n",
    "    StructField(\"tipo_anuncio\", StringType(), True),\n",
    "    StructField(\"tipo_unidade\", StringType(), True),\n",
    "    StructField(\"tipo_uso\",     StringType(), True),\n",
    "    StructField(\"vaga\", ArrayType(IntegerType()), True),\n",
    "    StructField(\"valores\", ArrayType(StructType([\n",
    "        StructField(\"condominio\", StringType(), True),\n",
    "        StructField(\"iptu\",       StringType(), True),\n",
    "        StructField(\"tipo\",       StringType(), True),\n",
    "        StructField(\"valor\",      StringType(), True),\n",
    "    ])), True),\n",
    "])\n",
    "\n",
    "# 2) Parse do JSON\n",
    "df_parsed = df.withColumn(\"anuncio\", col(\"anuncio\"))\n",
    "\n",
    "# 3) Flatten: seleciona campos e tira valores de arrays (pega o 1º elemento)\n",
    "#    (em Spark, element_at usa índice 1-based)\n",
    "df_flat = df_parsed.select(\n",
    "    col(\"id\").alias(\"row_id\"),                  # id da sua linha (original)\n",
    "    col(\"anuncio.id\").alias(\"anuncio_id\"),      # id do anúncio (do JSON)\n",
    "\n",
    "    col(\"anuncio.andar\").alias(\"andar\"),\n",
    "\n",
    "    expr(\"element_at(anuncio.area_total, 1)\").alias(\"area_total_raw\"),\n",
    "    expr(\"element_at(anuncio.area_util,  1)\").alias(\"area_util_raw\"),\n",
    "\n",
    "    expr(\"element_at(anuncio.banheiros, 1)\").alias(\"banheiros\"),\n",
    "    expr(\"element_at(anuncio.quartos,   1)\").alias(\"quartos\"),\n",
    "    expr(\"element_at(anuncio.suites,    1)\").alias(\"suites\"),\n",
    "    expr(\"element_at(anuncio.vaga,      1)\").alias(\"vaga\"),\n",
    "\n",
    "    col(\"anuncio.caracteristicas\").alias(\"caracteristicas\"),\n",
    "\n",
    "    col(\"anuncio.tipo_anuncio\").alias(\"tipo_anuncio\"),\n",
    "    col(\"anuncio.tipo_unidade\").alias(\"tipo_unidade\"),\n",
    "    col(\"anuncio.tipo_uso\").alias(\"tipo_uso\"),\n",
    "\n",
    "    col(\"anuncio.endereco.bairro\").alias(\"bairro\"),\n",
    "    col(\"anuncio.endereco.cep\").alias(\"cep\"),\n",
    "    col(\"anuncio.endereco.cidade\").alias(\"cidade\"),\n",
    "    col(\"anuncio.endereco.estado\").alias(\"estado\"),\n",
    "    col(\"anuncio.endereco.pais\").alias(\"pais\"),\n",
    "    col(\"anuncio.endereco.rua\").alias(\"rua\"),\n",
    "    col(\"anuncio.endereco.zona\").alias(\"zona\"),\n",
    "    col(\"anuncio.endereco.latitude\").alias(\"latitude\"),\n",
    "    col(\"anuncio.endereco.longitude\").alias(\"longitude\"),\n",
    "\n",
    "    expr(\"element_at(anuncio.valores, 1).tipo\").alias(\"preco_tipo\"),\n",
    "    expr(\"element_at(anuncio.valores, 1).valor\").alias(\"preco_valor_raw\"),\n",
    "    expr(\"element_at(anuncio.valores, 1).condominio\").alias(\"condominio_raw\"),\n",
    "    expr(\"element_at(anuncio.valores, 1).iptu\").alias(\"iptu_raw\"),\n",
    ")\n",
    "\n",
    "# 4) Casts limpos (se vierem números como string)\n",
    "df_final = (\n",
    "    df_flat\n",
    "      .withColumn(\"area_total_m2\", regexp_replace(\"area_total_raw\", \"[^0-9,.-]\", \"\").cast(\"double\"))\n",
    "      .withColumn(\"area_util_m2\",  regexp_replace(\"area_util_raw\",  \"[^0-9,.-]\", \"\").cast(\"double\"))\n",
    "      .withColumn(\"preco_valor\",   regexp_replace(\"preco_valor_raw\",\"[^0-9,.-]\", \"\").cast(\"double\"))\n",
    "      .withColumn(\"condominio\",    regexp_replace(\"condominio_raw\", \"[^0-9,.-]\", \"\").cast(\"double\"))\n",
    "      .withColumn(\"iptu\",          regexp_replace(\"iptu_raw\",       \"[^0-9,.-]\", \"\").cast(\"double\"))\n",
    "      .drop(\"area_total_raw\",\"area_util_raw\",\"preco_valor_raw\",\"condominio_raw\",\"iptu_raw\")\n",
    ")\n",
    "\n",
    "display(df_final)\n"
   ]
  },
  {
   "cell_type": "markdown",
   "metadata": {
    "application/vnd.databricks.v1+cell": {
     "cellMetadata": {},
     "inputWidgets": {},
     "nuid": "f15fab3a-b6b7-4e75-af9d-9e37fa436933",
     "showTitle": false,
     "tableResultSettingsMap": {},
     "title": ""
    }
   },
   "source": [
    "Exclusão de colunas"
   ]
  },
  {
   "cell_type": "code",
   "execution_count": 0,
   "metadata": {
    "application/vnd.databricks.v1+cell": {
     "cellMetadata": {
      "byteLimit": 2048000,
      "rowLimit": 10000
     },
     "inputWidgets": {},
     "nuid": "9651bb3b-69c4-4a8b-b8b7-524811811736",
     "showTitle": false,
     "tableResultSettingsMap": {
      "0": {
       "dataGridStateBlob": "{\"version\":1,\"tableState\":{\"columnPinning\":{\"left\":[\"#row_number#\"],\"right\":[]},\"columnSizing\":{},\"columnVisibility\":{}},\"settings\":{\"columns\":{}},\"syncTimestamp\":1757599033213}",
       "filterBlob": null,
       "queryPlanFiltersBlob": null,
       "tableResultIndex": 0
      }
     },
     "title": ""
    }
   },
   "outputs": [],
   "source": [
    "df_silver = df_final.drop(\"caracteristicas\", \"endereco\", \"row_id\")\n",
    "display(df_silver)"
   ]
  },
  {
   "cell_type": "markdown",
   "metadata": {
    "application/vnd.databricks.v1+cell": {
     "cellMetadata": {},
     "inputWidgets": {},
     "nuid": "a801a709-1966-40b9-96b3-66f6710b3244",
     "showTitle": false,
     "tableResultSettingsMap": {},
     "title": ""
    }
   },
   "source": [
    "Salvar na camada silver"
   ]
  },
  {
   "cell_type": "code",
   "execution_count": 0,
   "metadata": {
    "application/vnd.databricks.v1+cell": {
     "cellMetadata": {
      "byteLimit": 2048000,
      "rowLimit": 10000
     },
     "inputWidgets": {},
     "nuid": "92d5745c-e3d0-452f-ab75-3f8e5617b9fa",
     "showTitle": false,
     "tableResultSettingsMap": {},
     "title": ""
    }
   },
   "outputs": [],
   "source": [
    "path = \"abfss://imoveis@datalakepriscylla.dfs.core.windows.net/silver/dataset_imoveis\"\n",
    "df_silver.write.format(\"delta\").mode(\"overwrite\").save(path)\n",
    "\n"
   ]
  }
 ],
 "metadata": {
  "application/vnd.databricks.v1+notebook": {
   "computePreferences": null,
   "dashboards": [],
   "environmentMetadata": {
    "base_environment": "",
    "environment_version": "3"
   },
   "inputWidgetPreferences": null,
   "language": "python",
   "notebookMetadata": {
    "pythonIndentUnit": 4
   },
   "notebookName": "bronze_to_silver",
   "widgets": {}
  },
  "language_info": {
   "name": "python"
  }
 },
 "nbformat": 4,
 "nbformat_minor": 0
}
