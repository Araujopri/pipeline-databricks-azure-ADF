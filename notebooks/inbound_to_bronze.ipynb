{
 "cells": [
  {
   "cell_type": "code",
   "execution_count": 0,
   "metadata": {
    "application/vnd.databricks.v1+cell": {
     "cellMetadata": {
      "byteLimit": 2048000,
      "rowLimit": 10000
     },
     "inputWidgets": {},
     "nuid": "85b9fbf9-7bd7-432a-b19a-ee357f3935a2",
     "showTitle": false,
     "tableResultSettingsMap": {},
     "title": ""
    }
   },
   "outputs": [],
   "source": [
    "root = \"abfss://imoveis@datalakepriscylla.dfs.core.windows.net\"\n",
    "display(dbutils.fs.ls(root))  # listar\n",
    "test = f\"{root}/bronze/_uc_smoketest/\"\n",
    "spark.range(3).write.mode(\"overwrite\").parquet(test)\n",
    "display(dbutils.fs.ls(test))\n",
    "dbutils.fs.rm(test, True)\n"
   ]
  },
  {
   "cell_type": "code",
   "execution_count": 0,
   "metadata": {
    "application/vnd.databricks.v1+cell": {
     "cellMetadata": {
      "byteLimit": 2048000,
      "rowLimit": 10000
     },
     "inputWidgets": {},
     "nuid": "4603d38d-5946-4998-b1fb-48387cdde7ef",
     "showTitle": false,
     "tableResultSettingsMap": {},
     "title": ""
    }
   },
   "outputs": [],
   "source": [
    "# 0) ajuste se necessário\n",
    "root = \"abfss://imoveis@datalakepriscylla.dfs.core.windows.net\"\n",
    "\n",
    "# 1) listar o que há em inbound/\n",
    "display(dbutils.fs.ls(f\"{root}/inbound\"))\n",
    "\n",
    "# 2) procurar um arquivo (procura recursivo até 5 níveis)\n",
    "def list_files_recursive(base, max_depth=5):\n",
    "    stack = [(base.rstrip(\"/\"), 0)]\n",
    "    files = []\n",
    "    while stack:\n",
    "        cur, d = stack.pop()\n",
    "        for fi in dbutils.fs.ls(cur + \"/\"):\n",
    "            # diretório termina com \"/\"\n",
    "            if fi.name.endswith(\"/\") and d < max_depth:\n",
    "                stack.append((fi.path.rstrip(\"/\"), d + 1))\n",
    "            else:\n",
    "                files.append(fi.path)\n",
    "    return files\n",
    "\n",
    "files = list_files_recursive(f\"{root}/inbound\")\n",
    "print(\"Encontrados\", len(files), \"arquivos (recursivo). Exemplo:\", files[:5])\n",
    "\n",
    "# 3) escolher o primeiro parquet/csv/json e ler\n",
    "picked = None\n",
    "for ext in (\".parquet\", \".csv\", \".json\"):\n",
    "    for p in files:\n",
    "        if p.lower().endswith(ext):\n",
    "            picked = (ext, p); break\n",
    "    if picked: break\n",
    "\n",
    "if not picked:\n",
    "    print(\"⚠️ Não encontrei parquet/csv/json dentro de inbound/. Verifique os nomes/extensões ou me diga o formato.\")\n",
    "else:\n",
    "    ext, path = picked\n",
    "    print(\"Vou ler:\", path)\n",
    "    if ext == \".parquet\":\n",
    "        df = spark.read.parquet(path)      # se for dataset, também funciona apontar para a pasta\n",
    "    elif ext == \".csv\":\n",
    "        df = spark.read.option(\"header\",\"true\").csv(path)\n",
    "    else:  # .json\n",
    "        df = spark.read.json(path)\n",
    "\n",
    "    print(\"✅ Leitura OK — linhas:\", df.count())\n",
    "    display(df.limit(20))\n"
   ]
  },
  {
   "cell_type": "code",
   "execution_count": 0,
   "metadata": {
    "application/vnd.databricks.v1+cell": {
     "cellMetadata": {
      "byteLimit": 2048000,
      "rowLimit": 10000
     },
     "inputWidgets": {},
     "nuid": "95e5d853-f7e9-443e-be7a-756227284375",
     "showTitle": false,
     "tableResultSettingsMap": {},
     "title": ""
    }
   },
   "outputs": [],
   "source": [
    "path = \"abfss://imoveis@datalakepriscylla.dfs.core.windows.net/inbound/dados_brutos_imoveis.json\"\n",
    "df = spark.read.json(path)\n",
    "display(df.limit(20))"
   ]
  },
  {
   "cell_type": "code",
   "execution_count": 0,
   "metadata": {
    "application/vnd.databricks.v1+cell": {
     "cellMetadata": {
      "byteLimit": 2048000,
      "rowLimit": 10000
     },
     "inputWidgets": {},
     "nuid": "e859ba23-9e61-45ed-a2ee-e573cf986b1e",
     "showTitle": false,
     "tableResultSettingsMap": {},
     "title": ""
    }
   },
   "outputs": [],
   "source": [
    "df = df.drop(\"imagens\", \"usuario\")"
   ]
  },
  {
   "cell_type": "code",
   "execution_count": 0,
   "metadata": {
    "application/vnd.databricks.v1+cell": {
     "cellMetadata": {
      "byteLimit": 2048000,
      "rowLimit": 10000
     },
     "inputWidgets": {},
     "nuid": "6b0781ed-d4ef-4ac5-8c35-12bcbb9847a7",
     "showTitle": false,
     "tableResultSettingsMap": {},
     "title": ""
    }
   },
   "outputs": [],
   "source": [
    "display(df.limit(20))"
   ]
  },
  {
   "cell_type": "code",
   "execution_count": 0,
   "metadata": {
    "application/vnd.databricks.v1+cell": {
     "cellMetadata": {
      "byteLimit": 2048000,
      "rowLimit": 10000
     },
     "inputWidgets": {},
     "nuid": "38d6c29a-4437-41da-940b-92064f4035b1",
     "showTitle": false,
     "tableResultSettingsMap": {},
     "title": ""
    }
   },
   "outputs": [],
   "source": [
    "from pyspark.sql.functions import col\n",
    "\n",
    "df = df.withColumn(\"id\", col(\"anuncio.id\"))\n",
    "display(df)"
   ]
  },
  {
   "cell_type": "code",
   "execution_count": 0,
   "metadata": {
    "application/vnd.databricks.v1+cell": {
     "cellMetadata": {
      "byteLimit": 2048000,
      "rowLimit": 10000
     },
     "inputWidgets": {},
     "nuid": "df353933-afeb-4091-8d04-c4442fc7485b",
     "showTitle": false,
     "tableResultSettingsMap": {},
     "title": ""
    }
   },
   "outputs": [],
   "source": [
    "df.write.format(\"delta\").mode(\"overwrite\").save(f\"{root}/bronze/dados_brutos_imoveis\")"
   ]
  }
 ],
 "metadata": {
  "application/vnd.databricks.v1+notebook": {
   "computePreferences": null,
   "dashboards": [],
   "environmentMetadata": {
    "base_environment": "",
    "environment_version": "3"
   },
   "inputWidgetPreferences": null,
   "language": "python",
   "notebookMetadata": {
    "pythonIndentUnit": 4
   },
   "notebookName": "inbound_to_bronze",
   "widgets": {}
  },
  "language_info": {
   "name": "python"
  }
 },
 "nbformat": 4,
 "nbformat_minor": 0
}
